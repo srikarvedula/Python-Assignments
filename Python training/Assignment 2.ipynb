{
 "cells": [
  {
   "cell_type": "markdown",
   "metadata": {},
   "source": [
    "Problem 1:\n",
    "Write a program in Python to perform the following operation:\n",
    "If a number is divisible by 3 it should print “Consultadd” as a string\n",
    "If a number is divisible by 5 it should print “c” as a string\n",
    "If a number is divisible by both 3 and 5 it should print “Consultadd Python Training” as a string.\n"
   ]
  },
  {
   "cell_type": "code",
   "execution_count": 13,
   "metadata": {},
   "outputs": [
    {
     "name": "stdout",
     "output_type": "stream",
     "text": [
      "Type in an integer: 15\n",
      "ConsultAdd\n"
     ]
    }
   ],
   "source": [
    "c=int(input(\"Type in an integer: \"))\n",
    "if (c%3==0):\n",
    "    print('ConsultAdd')\n",
    "elif (c%5==0):\n",
    "    print('c')\n",
    "elif (c%3==0 and c%5==0):\n",
    "    print('CPython Training')\n",
    "else:\n",
    "    print('It is not divisable by 3 or 5')\n",
    "    "
   ]
  },
  {
   "cell_type": "markdown",
   "metadata": {},
   "source": [
    "Problem 2:\n",
    "Write a program in Python to perform the following operator based task:\n",
    "Ask user to choose the following option first:\n",
    "If User Enter 1 - Addition \n",
    "If User Enter 2 - Subtraction\n",
    "If User Enter 3 - Division\n",
    "If USer Enter 4 - Multiplication\n",
    "If User Enter 5 - Average\n",
    "Ask user to enter the 2 numbers in a variable for first and second for the first 4 options mentioned above.\n",
    "Ask user to enter two more numbers as first1 and second2 for calculating the average as soon as user choose an option 5.\n",
    "At the end if the answer of any operation is Negative print a statement saying “zsa”\n",
    "NOTE: At a time user can perform one action at a time.\n"
   ]
  },
  {
   "cell_type": "code",
   "execution_count": 16,
   "metadata": {},
   "outputs": [
    {
     "name": "stdout",
     "output_type": "stream",
     "text": [
      "Enter the first value: 23\n",
      "Enter the second value: 45\n",
      "Select which option to do: 2\n",
      "zsa\n"
     ]
    }
   ],
   "source": [
    "first = int(input('Enter the first value: '))\n",
    "second = int(input('Enter the second value: '))\n",
    "option= int(input('Select which option to do: '))\n",
    "if (option==1):\n",
    "    result=first+second\n",
    "    if (result>0):\n",
    "        print('result: ', result)\n",
    "    else:\n",
    "        print('zsa')\n",
    "elif (option==2):\n",
    "    result=first-second\n",
    "    if (result>0):\n",
    "        print('result: ', result)\n",
    "    else:\n",
    "        print('zsa')\n",
    "elif (option==3):\n",
    "    result=first/second\n",
    "    if (result>0):\n",
    "        print('result: ', result)\n",
    "    else:\n",
    "        print('zsa')\n",
    "elif (option==4):\n",
    "    result=first*second\n",
    "    if (result>0):\n",
    "        print('result: ', result)\n",
    "    else:\n",
    "        print('zsa')\n",
    "elif (option==5):\n",
    "    first1 = int(input('Enter the third value: '))\n",
    "    second1 = int(input('Enter the fourth value: '))\n",
    "    result=(first+second+first1+second1)/4\n",
    "    if (result>0):\n",
    "        print('result: ', result)\n",
    "    else:\n",
    "        print('zsa')\n",
    "else:\n",
    "    print('You did not select any of the options try again')"
   ]
  },
  {
   "cell_type": "markdown",
   "metadata": {},
   "source": [
    "Problem 3:\n",
    "Write a program in Python to implement the given flowchart:"
   ]
  },
  {
   "cell_type": "code",
   "execution_count": 20,
   "metadata": {},
   "outputs": [
    {
     "name": "stdout",
     "output_type": "stream",
     "text": [
      "avg =  20.0\n",
      "avg is just greater than a\n"
     ]
    }
   ],
   "source": [
    "a,b,c=10,20,30\n",
    "avg=(a+b+c)/3\n",
    "print('avg = ', avg)\n",
    "if (avg >a and avg > b and avg > c):\n",
    "    print('avg is greater than a,b anc c')\n",
    "elif (avg >a and avg > b):\n",
    "    print('avg is greater than a and b')\n",
    "elif (avg >a and avg > c):\n",
    "    print('avg is greater than a and c')\n",
    "elif (avg >b and avg > c):\n",
    "    print('avg is greater than b and c')\n",
    "elif (avg >a):\n",
    "    print('avg is just greater than a')\n",
    "elif (avg >b):\n",
    "    print('avg is just greater than b')\n",
    "elif (avg >c):\n",
    "    print('avg is just greater than c')\n",
    "    "
   ]
  },
  {
   "cell_type": "markdown",
   "metadata": {},
   "source": [
    "Problem 4:\n",
    "Write a program in Python to break and continue if the following cases occurs:\n",
    "If user enters a negative number just break the loop and print “It’s Over”\n",
    "If user enters a positive number just continue in the loop and print “Good Going”\n"
   ]
  },
  {
   "cell_type": "code",
   "execution_count": 22,
   "metadata": {},
   "outputs": [
    {
     "name": "stdout",
     "output_type": "stream",
     "text": [
      "Enter a value: 2\n",
      "good going\n",
      "Enter a value: 3\n",
      "good going\n",
      "Enter a value: 4\n",
      "good going\n",
      "Enter a value: 6\n",
      "good going\n",
      "Enter a value: -3\n",
      "it is over\n"
     ]
    }
   ],
   "source": [
    "while True:\n",
    "    input1=int(input('Enter a value: '))\n",
    "    if (input1 > 0):\n",
    "        print('good going')\n",
    "        continue\n",
    "    else:\n",
    "        print('it is over')\n",
    "        break\n",
    "\n"
   ]
  },
  {
   "cell_type": "markdown",
   "metadata": {},
   "source": [
    "Problem 5:\n",
    "Write a program in Python which will find all such numbers which are divisible  by 7 but are not a multiple of 5, between 2000 and 3200."
   ]
  },
  {
   "cell_type": "code",
   "execution_count": 23,
   "metadata": {},
   "outputs": [
    {
     "name": "stdout",
     "output_type": "stream",
     "text": [
      "[2002, 2009, 2016, 2023, 2037, 2044, 2051, 2058, 2072, 2079, 2086, 2093, 2107, 2114, 2121, 2128, 2142, 2149, 2156, 2163, 2177, 2184, 2191, 2198, 2212, 2219, 2226, 2233, 2247, 2254, 2261, 2268, 2282, 2289, 2296, 2303, 2317, 2324, 2331, 2338, 2352, 2359, 2366, 2373, 2387, 2394, 2401, 2408, 2422, 2429, 2436, 2443, 2457, 2464, 2471, 2478, 2492, 2499, 2506, 2513, 2527, 2534, 2541, 2548, 2562, 2569, 2576, 2583, 2597, 2604, 2611, 2618, 2632, 2639, 2646, 2653, 2667, 2674, 2681, 2688, 2702, 2709, 2716, 2723, 2737, 2744, 2751, 2758, 2772, 2779, 2786, 2793, 2807, 2814, 2821, 2828, 2842, 2849, 2856, 2863, 2877, 2884, 2891, 2898, 2912, 2919, 2926, 2933, 2947, 2954, 2961, 2968, 2982, 2989, 2996, 3003, 3017, 3024, 3031, 3038, 3052, 3059, 3066, 3073, 3087, 3094, 3101, 3108, 3122, 3129, 3136, 3143, 3157, 3164, 3171, 3178, 3192, 3199]\n"
     ]
    }
   ],
   "source": [
    "List1=[]\n",
    "for x in range(2000,3200):\n",
    "    if (x%7==0) and (x%5!=0):\n",
    "        List1.append(x)  \n",
    "print(List1)"
   ]
  },
  {
   "cell_type": "markdown",
   "metadata": {},
   "source": [
    "Problem 6:\n",
    "What is the output of the following code examples?"
   ]
  },
  {
   "cell_type": "code",
   "execution_count": 32,
   "metadata": {},
   "outputs": [
    {
     "ename": "TypeError",
     "evalue": "'int' object is not iterable",
     "output_type": "error",
     "traceback": [
      "\u001b[1;31m---------------------------------------------------------------------------\u001b[0m",
      "\u001b[1;31mTypeError\u001b[0m                                 Traceback (most recent call last)",
      "\u001b[1;32m<ipython-input-32-3ff34c92f879>\u001b[0m in \u001b[0;36m<module>\u001b[1;34m\u001b[0m\n\u001b[0;32m      1\u001b[0m \u001b[0mx\u001b[0m\u001b[1;33m=\u001b[0m\u001b[1;36m123\u001b[0m\u001b[1;33m\u001b[0m\u001b[1;33m\u001b[0m\u001b[0m\n\u001b[1;32m----> 2\u001b[1;33m \u001b[1;32mfor\u001b[0m \u001b[0mi\u001b[0m \u001b[1;32min\u001b[0m \u001b[0mx\u001b[0m\u001b[1;33m:\u001b[0m\u001b[1;33m\u001b[0m\u001b[1;33m\u001b[0m\u001b[0m\n\u001b[0m\u001b[0;32m      3\u001b[0m     \u001b[0mprint\u001b[0m\u001b[1;33m(\u001b[0m\u001b[0mi\u001b[0m\u001b[1;33m)\u001b[0m\u001b[1;33m\u001b[0m\u001b[1;33m\u001b[0m\u001b[0m\n",
      "\u001b[1;31mTypeError\u001b[0m: 'int' object is not iterable"
     ]
    }
   ],
   "source": [
    "x=123 \n",
    "for i in x:\n",
    "    print(i)"
   ]
  },
  {
   "cell_type": "code",
   "execution_count": 29,
   "metadata": {},
   "outputs": [
    {
     "name": "stdout",
     "output_type": "stream",
     "text": [
      "0\n",
      "1\n",
      "2\n"
     ]
    }
   ],
   "source": [
    "i = 0\n",
    "while i < 5:\n",
    "    print(i)\n",
    "    i += 1\n",
    "    if i == 3:\n",
    "        break\n",
    "else:\n",
    "    print('error')\n"
   ]
  },
  {
   "cell_type": "code",
   "execution_count": 34,
   "metadata": {},
   "outputs": [
    {
     "name": "stdout",
     "output_type": "stream",
     "text": [
      "0\n",
      "1\n",
      "2\n",
      "3\n",
      "4\n"
     ]
    }
   ],
   "source": [
    "count = 0\n",
    "while True:\n",
    "    print(count)\n",
    "    count += 1\n",
    "    if count >= 5:\n",
    "        break\n"
   ]
  },
  {
   "cell_type": "markdown",
   "metadata": {},
   "source": [
    "Problem 7:\n",
    "Write a program that prints all the numbers from 0 to 6 except 3 and 6.\n",
    "       Expected output: 0 1 2 4 5\n",
    "Note: Use ‘continue’ statement\n"
   ]
  },
  {
   "cell_type": "code",
   "execution_count": 39,
   "metadata": {},
   "outputs": [
    {
     "name": "stdout",
     "output_type": "stream",
     "text": [
      "0\n",
      "1\n",
      "2\n",
      "4\n",
      "5\n"
     ]
    }
   ],
   "source": [
    "for x in range(6):\n",
    "    if (x==3) or (x==6):\n",
    "        continue\n",
    "    print(x)\n",
    "    x=x-1\n",
    "    "
   ]
  },
  {
   "cell_type": "markdown",
   "metadata": {},
   "source": [
    "Problem 8:\n",
    "Write a program that accepts a string as an input from user and calculate the number of digits and letters.\n",
    "     Expected output: consul12\n",
    "     Letters 6"
   ]
  },
  {
   "cell_type": "code",
   "execution_count": 36,
   "metadata": {},
   "outputs": [
    {
     "name": "stdout",
     "output_type": "stream",
     "text": [
      "27\n",
      "a4w3k2o4f5b2c4a3\n"
     ]
    }
   ],
   "source": [
    "List3=\"aaaawwwkkoooofffffbbccccaaa\"\n",
    "a=len(List3) #get the length of the string\n",
    "List4=\"\"  #create a new string to pass the compressed string value to\n",
    "count=1   #set a counter\n",
    "print(a)  #print the length of string\n",
    "for i in range(a-1):      #for loop throughout the whole string\n",
    "    j=i+1                 #create a consecutive variable that is one element higher than i\n",
    "    if List3[i]==List3[j]:   #if the character of one location is equal to the character of its previous location \n",
    "        count+=1             #then the counter value will incrament until the char of one location is not equal to its\n",
    "    else:                    #previous location. Then that character along with its counted value in string will be added \n",
    "        List4+=List3[i]+str(count)     #to a new string and the counter will reset to 1\n",
    "        count=1\n",
    "    i+=1                     #iterate until the for loop reaches the end of the string\n",
    "List4+=List3[i]+str(count)    #add in the last character/count of the string\n",
    "print(List4)   #print the result"
   ]
  },
  {
   "cell_type": "code",
   "execution_count": null,
   "metadata": {},
   "outputs": [],
   "source": []
  }
 ],
 "metadata": {
  "kernelspec": {
   "display_name": "Python 3",
   "language": "python",
   "name": "python3"
  },
  "language_info": {
   "codemirror_mode": {
    "name": "ipython",
    "version": 3
   },
   "file_extension": ".py",
   "mimetype": "text/x-python",
   "name": "python",
   "nbconvert_exporter": "python",
   "pygments_lexer": "ipython3",
   "version": "3.7.3"
  }
 },
 "nbformat": 4,
 "nbformat_minor": 2
}
