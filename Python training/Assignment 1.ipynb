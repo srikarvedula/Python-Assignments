{
 "cells": [
  {
   "cell_type": "code",
   "execution_count": null,
   "metadata": {},
   "outputs": [],
   "source": []
  },
  {
   "cell_type": "code",
   "execution_count": 4,
   "metadata": {},
   "outputs": [
    {
     "name": "stdout",
     "output_type": "stream",
     "text": [
      "data type of a is  <class 'int'>\n",
      "data type of b is  <class 'str'>\n",
      "data type of c is  <class 'float'>\n"
     ]
    }
   ],
   "source": [
    "##Task 1\n",
    "\n",
    "a,b,c,=26,'Srikar', 27.0\n",
    "\n",
    "print('data type of a is ' , type(a))\n",
    "print('data type of b is ' , type(b)) \n",
    "print('data type of c is ' ,type(c))\n"
   ]
  },
  {
   "cell_type": "code",
   "execution_count": 5,
   "metadata": {},
   "outputs": [
    {
     "name": "stdout",
     "output_type": "stream",
     "text": [
      "20\n",
      "30\n",
      "30\n",
      "20\n"
     ]
    }
   ],
   "source": [
    "## Task 2\n",
    "a,b=20,30\n",
    "print(a)\n",
    "print(b)\n",
    "a,b=b,a\n",
    "print(a)\n",
    "print(b)"
   ]
  },
  {
   "cell_type": "code",
   "execution_count": 6,
   "metadata": {},
   "outputs": [
    {
     "name": "stdout",
     "output_type": "stream",
     "text": [
      "20\n",
      "40\n",
      "40\n",
      "20\n"
     ]
    }
   ],
   "source": [
    "##Task 3\n",
    "a,b=20,40\n",
    "print(a)\n",
    "print(b)\n",
    "c=b\n",
    "b=a\n",
    "a=c\n",
    "print(a)\n",
    "print(b)"
   ]
  },
  {
   "cell_type": "code",
   "execution_count": 25,
   "metadata": {},
   "outputs": [
    {
     "name": "stdout",
     "output_type": "stream",
     "text": [
      "Srikar\n"
     ]
    }
   ],
   "source": [
    "##Task 7\n",
    "a='srikar'\n",
    "print(a.capitalize())"
   ]
  },
  {
   "cell_type": "code",
   "execution_count": 21,
   "metadata": {},
   "outputs": [
    {
     "ename": "SyntaxError",
     "evalue": "invalid syntax (<ipython-input-21-df6b26c9ed87>, line 3)",
     "output_type": "error",
     "traceback": [
      "\u001b[1;36m  File \u001b[1;32m\"<ipython-input-21-df6b26c9ed87>\"\u001b[1;36m, line \u001b[1;32m3\u001b[0m\n\u001b[1;33m    python2 -m pip install ipykernel\u001b[0m\n\u001b[1;37m                 ^\u001b[0m\n\u001b[1;31mSyntaxError\u001b[0m\u001b[1;31m:\u001b[0m invalid syntax\n"
     ]
    }
   ],
   "source": [
    "##Task 4\n",
    "#Python 2 \n",
    "#python2 -m pip install ipykernel\n",
    "#python2 -m ipykernel install --user\n",
    "\n",
    "print \"Hello World\"\n",
    "#Python 3\n",
    "print(\"Hello World\")\n",
    "\n",
    "\n"
   ]
  },
  {
   "cell_type": "code",
   "execution_count": 11,
   "metadata": {},
   "outputs": [
    {
     "name": "stdout",
     "output_type": "stream",
     "text": [
      "Enter a value between 1 and 10: 3\n",
      "Enter a value between 1 and 10: 5\n",
      "38\n",
      "<class 'int'>\n",
      "<class 'int'>\n"
     ]
    }
   ],
   "source": [
    "##Task 5\n",
    "inp = int(input('Enter a value between 1 and 10: '))\n",
    "inp2=int(input('Enter a value between 1 and 10: '))\n",
    "z=inp+inp2+30\n",
    "print(z)\n",
    "print(type(inp))\n",
    "print(type(inp2))"
   ]
  },
  {
   "cell_type": "code",
   "execution_count": 16,
   "metadata": {},
   "outputs": [
    {
     "name": "stdout",
     "output_type": "stream",
     "text": [
      "Enter a value: srikar\n",
      "the input value data type is:  <class 'str'>\n",
      "Enter a value: 23\n",
      "the input value data type is:  <class 'int'>\n",
      "Enter a value: 34\n",
      "the input value data type is:  <class 'int'>\n"
     ]
    }
   ],
   "source": [
    "##Task 6\n",
    "inp = input('Enter a value: ')\n",
    "print('the input value data type is: ', type(inp))\n",
    "inp = int(input('Enter a value: '))\n",
    "print('the input value data type is: ', type(inp))\n",
    "inp = eval(input('Enter a value: '))\n",
    "print('the input value data type is: ', type(inp))"
   ]
  },
  {
   "cell_type": "code",
   "execution_count": null,
   "metadata": {},
   "outputs": [],
   "source": []
  },
  {
   "cell_type": "code",
   "execution_count": 18,
   "metadata": {},
   "outputs": [],
   "source": [
    "##Task 8\n",
    "#If one data type value is assigned to ‘a’ variable and then a different data type value is assigned to ‘a’ again. \n",
    "#Will it change the value. If Yes then Why?\n",
    "\n",
    "\n",
    "#It will change the value because since it is a variable, the value can change based on how the user defines. The data type\n",
    "#can change as well. "
   ]
  },
  {
   "cell_type": "code",
   "execution_count": null,
   "metadata": {},
   "outputs": [],
   "source": []
  }
 ],
 "metadata": {
  "kernelspec": {
   "display_name": "Python 3",
   "language": "python",
   "name": "python3"
  },
  "language_info": {
   "codemirror_mode": {
    "name": "ipython",
    "version": 3
   },
   "file_extension": ".py",
   "mimetype": "text/x-python",
   "name": "python",
   "nbconvert_exporter": "python",
   "pygments_lexer": "ipython3",
   "version": "3.7.3"
  }
 },
 "nbformat": 4,
 "nbformat_minor": 2
}
