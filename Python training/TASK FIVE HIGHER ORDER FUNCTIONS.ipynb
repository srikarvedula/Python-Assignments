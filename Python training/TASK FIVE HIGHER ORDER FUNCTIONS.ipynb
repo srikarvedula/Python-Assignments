{
 "cells": [
  {
   "cell_type": "markdown",
   "metadata": {},
   "source": [
    "Write a program to Python find the values which is not divisible 3 but is should be a multiple of 7. Make sure to use only higher order function."
   ]
  },
  {
   "cell_type": "code",
   "execution_count": 14,
   "metadata": {},
   "outputs": [
    {
     "name": "stdout",
     "output_type": "stream",
     "text": [
      "['7', '14', '28', '35', '49', '56', '70', '77', '91', '98']\n"
     ]
    }
   ],
   "source": [
    "def divisible(n):    \n",
    "    L=[]\n",
    "    for x in range(0, n):\n",
    "        if (x%7==0) and (x%3!=0):\n",
    "            L.append(str(x))\n",
    "    print(L)\n",
    "divisible(100)"
   ]
  },
  {
   "cell_type": "markdown",
   "metadata": {},
   "source": [
    "Write a program in Python to  multiple the element of list by itself using traditional function and pass the function to map to complete the operation."
   ]
  },
  {
   "cell_type": "code",
   "execution_count": 13,
   "metadata": {},
   "outputs": [
    {
     "name": "stdout",
     "output_type": "stream",
     "text": [
      "[1, 4, 9, 16]\n"
     ]
    }
   ],
   "source": [
    "List = [1, 2, 3, 4]\n",
    "mapp = map(lambda x: x**2, List)\n",
    "print(list(mapp))"
   ]
  },
  {
   "cell_type": "markdown",
   "metadata": {},
   "source": [
    "Write a program to Python find out the character in a string which is uppercase using list comprehension."
   ]
  },
  {
   "cell_type": "code",
   "execution_count": 7,
   "metadata": {},
   "outputs": [
    {
     "name": "stdout",
     "output_type": "stream",
     "text": [
      "['SRIKAR', 'VEDULA']\n"
     ]
    }
   ],
   "source": [
    "input = ['srikar','vedula'] \n",
    "lst = [x.upper() for x in input]  \n",
    "print(lst) "
   ]
  },
  {
   "cell_type": "markdown",
   "metadata": {},
   "source": [
    "Write a program to construct a dictionary from the two lists containing the names of students and their corresponding subjects. The dictionary should maps the students with their respective subjects. Let’s see how to do this using for loops and dictionary comprehension. "
   ]
  },
  {
   "cell_type": "code",
   "execution_count": 9,
   "metadata": {},
   "outputs": [
    {
     "name": "stdout",
     "output_type": "stream",
     "text": [
      "{'Smit': 'CSE', 'Jaya': 'Networking', 'Rayyan': 'Operating System'}\n"
     ]
    }
   ],
   "source": [
    "student = ['Smit', 'Jaya', 'Rayyan']\n",
    "capital = ['CSE', 'Networking', 'Operating System']\n",
    "\n",
    "output_dict = {} \n",
    "for (key, value) in zip(student, capital): \n",
    "    output_dict[key] = value \n",
    "  \n",
    "print(output_dict) "
   ]
  },
  {
   "cell_type": "code",
   "execution_count": 11,
   "metadata": {},
   "outputs": [
    {
     "name": "stdout",
     "output_type": "stream",
     "text": [
      "d\n",
      "d\n",
      "a\n",
      "t\n",
      "l\n",
      "u\n",
      "s\n",
      "n\n",
      "o\n",
      "c\n"
     ]
    }
   ],
   "source": [
    "def rev_str(my_str):\n",
    "    length = len(my_str)\n",
    "    for i in range(length - 1,-1,-1):\n",
    "        yield my_str[i]\n",
    "\n",
    "for char in rev_str(\"consultadd\"):\n",
    "     print(char)"
   ]
  },
  {
   "cell_type": "code",
   "execution_count": null,
   "metadata": {},
   "outputs": [],
   "source": []
  }
 ],
 "metadata": {
  "kernelspec": {
   "display_name": "Python 3",
   "language": "python",
   "name": "python3"
  },
  "language_info": {
   "codemirror_mode": {
    "name": "ipython",
    "version": 3
   },
   "file_extension": ".py",
   "mimetype": "text/x-python",
   "name": "python",
   "nbconvert_exporter": "python",
   "pygments_lexer": "ipython3",
   "version": "3.7.3"
  }
 },
 "nbformat": 4,
 "nbformat_minor": 2
}
