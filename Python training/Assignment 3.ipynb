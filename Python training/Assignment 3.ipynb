{
 "cells": [
  {
   "cell_type": "markdown",
   "metadata": {},
   "source": [
    "Problem 1\n",
    "Create a list of the 10 elements of four different types of Data Type like int, string, complex and float."
   ]
  },
  {
   "cell_type": "code",
   "execution_count": 25,
   "metadata": {},
   "outputs": [
    {
     "name": "stdout",
     "output_type": "stream",
     "text": [
      "[23, 'srikar', (6+8j), 23.9, [2, 3, 4, 5, 6], 23, 56, 'vedula', (3+4j), 45.6]\n",
      "[23, 45, 12, 1, 2, 3, 4, 67, 88, 99]\n",
      "['a', 'b', 'c', 'd', 'f', 'g', 'h', 'i', 'j', 'k']\n",
      "[11.2, 22.3, 33.4, 44.5, 55.6, 66.7, 77.8, 88.9, 99.1, 101.2]\n",
      "[(1+2j), (2+3j), (3+4j), (4+5j), (5+6j), (6+7j), (7+8j), (8+9j), (9+2j), (10+3j)]\n"
     ]
    }
   ],
   "source": [
    "List = [23,'srikar',6+8j,23.9,[2,3,4,5,6],23,56,'vedula',3+4j,45.6]\n",
    "List2=[23,45,12,1,2,3,4,67,88,99]\n",
    "List3=['a','b','c','d','f','g','h','i','j','k']\n",
    "List4=[11.2,22.3,33.4,44.5,55.6,66.7,77.8,88.9,99.1,101.2]\n",
    "List5=[1+2j,2+3j,3+4j,4+5j,5+6j,6+7j,7+8j,8+9j,9+2j,10+3j]\n",
    "\n",
    "print(List)\n",
    "print(List2)\n",
    "print(List3)\n",
    "print(List4)\n",
    "print(List5)"
   ]
  },
  {
   "cell_type": "markdown",
   "metadata": {},
   "source": [
    "Problem 2\n",
    "Create a list of size 5 and execute the slicing structure "
   ]
  },
  {
   "cell_type": "code",
   "execution_count": 26,
   "metadata": {},
   "outputs": [
    {
     "name": "stdout",
     "output_type": "stream",
     "text": [
      "\n",
      "Slicing elements of length 5: \n",
      "['srikar', (6+8j), 23.9, [2, 3, 4, 5, 6], 23]\n",
      "\n",
      "Slicing elements of length 5: \n",
      "[45, 12, 1, 2, 3]\n",
      "\n",
      "Slicing elements of length 5: \n",
      "['b', 'c', 'd', 'f', 'g']\n",
      "\n",
      "Slicing elements of length 5: \n",
      "[22.3, 33.4, 44.5, 55.6, 66.7]\n",
      "\n",
      "Slicing elements of length 5: \n",
      "[(2+3j), (3+4j), (4+5j), (5+6j), (6+7j)]\n"
     ]
    }
   ],
   "source": [
    "Sliced_List = List[1:6] \n",
    "print(\"\\nSlicing elements of length 5: \") \n",
    "print(Sliced_List) \n",
    "\n",
    "Sliced_List2 = List2[1:6] \n",
    "print(\"\\nSlicing elements of length 5: \") \n",
    "print(Sliced_List2) \n",
    "\n",
    "Sliced_List3 = List3[1:6] \n",
    "print(\"\\nSlicing elements of length 5: \") \n",
    "print(Sliced_List3)\n",
    "\n",
    "Sliced_List4 = List4[1:6] \n",
    "print(\"\\nSlicing elements of length 5: \") \n",
    "print(Sliced_List4)\n",
    "\n",
    "Sliced_List5 = List5[1:6] \n",
    "print(\"\\nSlicing elements of length 5: \") \n",
    "print(Sliced_List5) "
   ]
  },
  {
   "cell_type": "markdown",
   "metadata": {},
   "source": [
    "Probem 3\n",
    "Write a program to get the sum and multiply of all the items in a given list."
   ]
  },
  {
   "cell_type": "code",
   "execution_count": 27,
   "metadata": {},
   "outputs": [
    {
     "name": "stdout",
     "output_type": "stream",
     "text": [
      "Multiplication:  3240\n",
      "Addition:  63\n"
     ]
    }
   ],
   "source": [
    "result = 1\n",
    "for x in Sliced_List2: \n",
    "    result = result * x  \n",
    "print(\"Multiplication: \",result)\n",
    "\n",
    "add=0\n",
    "for x in Sliced_List2: \n",
    "    add = add + x  \n",
    "print(\"Addition: \",add)"
   ]
  },
  {
   "cell_type": "markdown",
   "metadata": {},
   "source": [
    "Problem 4\n",
    "Find the largest and smallest number from a given list."
   ]
  },
  {
   "cell_type": "code",
   "execution_count": 28,
   "metadata": {},
   "outputs": [
    {
     "name": "stdout",
     "output_type": "stream",
     "text": [
      "Minimum:  1\n",
      "Maximum:  45\n"
     ]
    }
   ],
   "source": [
    "print('Minimum: ',min(Sliced_List2))\n",
    "print('Maximum: ',max(Sliced_List2))"
   ]
  },
  {
   "cell_type": "markdown",
   "metadata": {},
   "source": [
    "Problem 5\n",
    "Create a new list which contains the specified numbers after removing the even numbers from a predefined list. "
   ]
  },
  {
   "cell_type": "code",
   "execution_count": 29,
   "metadata": {},
   "outputs": [
    {
     "name": "stdout",
     "output_type": "stream",
     "text": [
      "Before removing even numbers:  [23, 45, 12, 1, 2, 3, 4, 67, 88, 99]\n",
      "After removing even numbers:  [23, 45, 1, 3, 67, 99]\n"
     ]
    }
   ],
   "source": [
    "print(\"Before removing even numbers: \",List2)\n",
    "List8=List2\n",
    "\n",
    "for i in List2:\n",
    "    if(i%2==0):\n",
    "        List8.remove(i)\n",
    "print(\"After removing even numbers: \",List8)        \n",
    "        "
   ]
  },
  {
   "cell_type": "code",
   "execution_count": null,
   "metadata": {},
   "outputs": [],
   "source": []
  }
 ],
 "metadata": {
  "kernelspec": {
   "display_name": "Python 3",
   "language": "python",
   "name": "python3"
  },
  "language_info": {
   "codemirror_mode": {
    "name": "ipython",
    "version": 3
   },
   "file_extension": ".py",
   "mimetype": "text/x-python",
   "name": "python",
   "nbconvert_exporter": "python",
   "pygments_lexer": "ipython3",
   "version": "3.7.3"
  }
 },
 "nbformat": 4,
 "nbformat_minor": 2
}
