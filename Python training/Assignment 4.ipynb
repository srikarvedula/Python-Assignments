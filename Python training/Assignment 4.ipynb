{
 "cells": [
  {
   "cell_type": "markdown",
   "metadata": {},
   "source": [
    "Problem 1\n",
    "Create a list of first and last 5 elements where the values are square of numbers between 1 and 30 (both included)."
   ]
  },
  {
   "cell_type": "code",
   "execution_count": 16,
   "metadata": {},
   "outputs": [
    {
     "name": "stdout",
     "output_type": "stream",
     "text": [
      "Square of numbers first 5:  [1, 4, 9, 16, 25]\n",
      "Square of numbers last 5:  [169, 196, 225, 256, 289]\n"
     ]
    }
   ],
   "source": [
    "List2=[1,2,3,4,5,6,7,8,9,10,11,12,13,14,15,16,17,18]\n",
    "result = 0\n",
    "List3=[]\n",
    "for x in List2: \n",
    "    result = x * x\n",
    "    List3.append(result)\n",
    "print(\"Square of numbers first 5: \",List3[0:5])\n",
    "print(\"Square of numbers last 5: \",List3[-6:-1])\n"
   ]
  },
  {
   "cell_type": "markdown",
   "metadata": {},
   "source": [
    "Problem 2: Write a program to replace the last element in a list with another list."
   ]
  },
  {
   "cell_type": "code",
   "execution_count": 17,
   "metadata": {},
   "outputs": [
    {
     "name": "stdout",
     "output_type": "stream",
     "text": [
      "[1, 2, 3, 4, 6, 7, 8, 9, 10]\n"
     ]
    }
   ],
   "source": [
    "List3 = [1,2,3,4,5]\n",
    "List4 = [6,7,8,9,10]\n",
    "List3[-1:] = List4\n",
    "print(List3)"
   ]
  },
  {
   "cell_type": "markdown",
   "metadata": {},
   "source": [
    "Problem 3: Create a new dictionary by concatenating the following two dictionaries:"
   ]
  },
  {
   "cell_type": "code",
   "execution_count": 20,
   "metadata": {},
   "outputs": [
    {
     "name": "stdout",
     "output_type": "stream",
     "text": [
      "{1: 10, 2: 20, 3: 30, 4: 40}\n"
     ]
    }
   ],
   "source": [
    "a={1:10,2:20}\n",
    "b={3:30,4:40}\n",
    "a.update(b)\n",
    "print(a)"
   ]
  },
  {
   "cell_type": "markdown",
   "metadata": {},
   "source": [
    "Problem 4: Create a dictionary that contains a number (between 1 and n) in the form(x,x*x)."
   ]
  },
  {
   "cell_type": "code",
   "execution_count": 23,
   "metadata": {},
   "outputs": [
    {
     "name": "stdout",
     "output_type": "stream",
     "text": [
      "Enter a number:5\n",
      "{1: 1, 2: 4, 3: 9, 4: 16}\n"
     ]
    }
   ],
   "source": [
    "n=int(input(\"Enter a number:\"))\n",
    "d={x:x*x for x in range(1,n)}\n",
    "print(d)"
   ]
  },
  {
   "cell_type": "markdown",
   "metadata": {},
   "source": [
    "Problem 5: Write a program which accepts a sequence of comma-separated numbers from console and generate a list and a tuple which contains every number. Suppose the following input is supplied to the program:\n"
   ]
  },
  {
   "cell_type": "code",
   "execution_count": 27,
   "metadata": {},
   "outputs": [
    {
     "name": "stdout",
     "output_type": "stream",
     "text": [
      "how many values would you like in a list? 8\n",
      "Input in some value: 2\n",
      "Input in some value: 5\n",
      "Input in some value: 6\n",
      "Input in some value: 8\n",
      "Input in some value: 9\n",
      "Input in some value: 3\n",
      "Input in some value: 4\n",
      "Input in some value: 5\n",
      "['2', '5', '6', '8', '9', '3', '4', '5']\n"
     ]
    }
   ],
   "source": [
    "list10=[]\n",
    "y=int(input('how many values would you like in a list? '))\n",
    "for i in range(0,y):\n",
    "    y = input(\"Input in some value: \")\n",
    "    list10.append(y)\n",
    "print(list10)"
   ]
  },
  {
   "cell_type": "code",
   "execution_count": null,
   "metadata": {},
   "outputs": [],
   "source": []
  }
 ],
 "metadata": {
  "kernelspec": {
   "display_name": "Python 3",
   "language": "python",
   "name": "python3"
  },
  "language_info": {
   "codemirror_mode": {
    "name": "ipython",
    "version": 3
   },
   "file_extension": ".py",
   "mimetype": "text/x-python",
   "name": "python",
   "nbconvert_exporter": "python",
   "pygments_lexer": "ipython3",
   "version": "3.7.3"
  }
 },
 "nbformat": 4,
 "nbformat_minor": 2
}
