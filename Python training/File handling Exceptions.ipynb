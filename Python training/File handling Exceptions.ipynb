{
 "cells": [
  {
   "cell_type": "code",
   "execution_count": 1,
   "metadata": {},
   "outputs": [
    {
     "data": {
      "text/plain": [
       "'C:\\\\Users\\\\srika\\\\Desktop\\\\Python training'"
      ]
     },
     "execution_count": 1,
     "metadata": {},
     "output_type": "execute_result"
    }
   ],
   "source": [
    "import os\n",
    "os.getcwd()"
   ]
  },
  {
   "cell_type": "code",
   "execution_count": 2,
   "metadata": {},
   "outputs": [],
   "source": [
    "f=open('example.txt','w')\n",
    "f.write('Testingggggggggggggggggggggg')\n",
    "f.close()"
   ]
  },
  {
   "cell_type": "code",
   "execution_count": 3,
   "metadata": {},
   "outputs": [
    {
     "data": {
      "text/plain": [
       "'Testingggggggggggggggggggggg'"
      ]
     },
     "execution_count": 3,
     "metadata": {},
     "output_type": "execute_result"
    }
   ],
   "source": [
    "f=open('example.txt','r')\n",
    "f.read()"
   ]
  },
  {
   "cell_type": "code",
   "execution_count": 4,
   "metadata": {},
   "outputs": [],
   "source": [
    "f.close()"
   ]
  },
  {
   "cell_type": "code",
   "execution_count": 5,
   "metadata": {},
   "outputs": [
    {
     "data": {
      "text/plain": [
       "'Testingggggggggggggggggggggg'"
      ]
     },
     "execution_count": 5,
     "metadata": {},
     "output_type": "execute_result"
    }
   ],
   "source": [
    "f=open('example.txt','r')\n",
    "f.read()"
   ]
  },
  {
   "cell_type": "code",
   "execution_count": 6,
   "metadata": {},
   "outputs": [
    {
     "data": {
      "text/plain": [
       "''"
      ]
     },
     "execution_count": 6,
     "metadata": {},
     "output_type": "execute_result"
    }
   ],
   "source": [
    "f.readline()"
   ]
  },
  {
   "cell_type": "code",
   "execution_count": 7,
   "metadata": {},
   "outputs": [],
   "source": [
    "with open('example.txt','w') as fh:\n",
    "    fh.write('over writing')"
   ]
  },
  {
   "cell_type": "code",
   "execution_count": 8,
   "metadata": {},
   "outputs": [
    {
     "name": "stdout",
     "output_type": "stream",
     "text": [
      "['o']\n",
      "['v']\n",
      "['e']\n",
      "['r']\n",
      "[]\n",
      "['w']\n",
      "['r']\n",
      "['i']\n",
      "['t']\n",
      "['i']\n",
      "['n']\n",
      "['g']\n"
     ]
    }
   ],
   "source": [
    "with open('example.txt','r') as file:\n",
    "    data=file.readline()\n",
    "    for i in data:\n",
    "        word=i.split()\n",
    "        print(word)"
   ]
  },
  {
   "cell_type": "code",
   "execution_count": 10,
   "metadata": {},
   "outputs": [
    {
     "name": "stdout",
     "output_type": "stream",
     "text": [
      "over writing\n"
     ]
    }
   ],
   "source": [
    "try:\n",
    "    fi=open('example.txt','r')\n",
    "    content=fi.read()\n",
    "    print(content[:20])\n",
    "except:\n",
    "    print(\"Enter the correct file name\")\n",
    "finally:\n",
    "    fi.close()"
   ]
  },
  {
   "cell_type": "code",
   "execution_count": 11,
   "metadata": {},
   "outputs": [
    {
     "ename": "ValueError",
     "evalue": "too many values to unpack (expected 2)",
     "output_type": "error",
     "traceback": [
      "\u001b[1;31m---------------------------------------------------------------------------\u001b[0m",
      "\u001b[1;31mValueError\u001b[0m                                Traceback (most recent call last)",
      "\u001b[1;32m<ipython-input-11-3a1563fba51d>\u001b[0m in \u001b[0;36m<module>\u001b[1;34m\u001b[0m\n\u001b[0;32m      1\u001b[0m \u001b[1;31m#import os.system\u001b[0m\u001b[1;33m\u001b[0m\u001b[1;33m\u001b[0m\u001b[1;33m\u001b[0m\u001b[0m\n\u001b[0;32m      2\u001b[0m \u001b[1;32mfrom\u001b[0m \u001b[0msys\u001b[0m \u001b[1;32mimport\u001b[0m \u001b[0margv\u001b[0m\u001b[1;33m\u001b[0m\u001b[1;33m\u001b[0m\u001b[0m\n\u001b[1;32m----> 3\u001b[1;33m \u001b[0mnameofprogram\u001b[0m\u001b[1;33m,\u001b[0m\u001b[0mfilename\u001b[0m\u001b[1;33m=\u001b[0m\u001b[0margv\u001b[0m\u001b[1;33m\u001b[0m\u001b[1;33m\u001b[0m\u001b[0m\n\u001b[0m\u001b[0;32m      4\u001b[0m \u001b[1;31m#ilename=argv\u001b[0m\u001b[1;33m\u001b[0m\u001b[1;33m\u001b[0m\u001b[1;33m\u001b[0m\u001b[0m\n\u001b[0;32m      5\u001b[0m \u001b[1;33m\u001b[0m\u001b[0m\n",
      "\u001b[1;31mValueError\u001b[0m: too many values to unpack (expected 2)"
     ]
    }
   ],
   "source": [
    "#import os.system\n",
    "from sys import argv\n",
    "nameofprogram,filename=argv\n",
    "#ilename=argv\n",
    "\n",
    "print(nameofprogram)\n",
    "print(filename)\n",
    "print(type(filename))\n",
    "\n",
    "\n",
    "while True:\n",
    "    fj=open(filename)\n",
    "    content=fj.read()\n",
    "    print(content)\n",
    "    fj.close()\n",
    "    break"
   ]
  },
  {
   "cell_type": "code",
   "execution_count": null,
   "metadata": {},
   "outputs": [],
   "source": [
    "username='vedula'\n",
    "password='12345'\n",
    "attempt=3\n",
    "while (attempt >0):\n",
    "    try:\n",
    "        askuser=input(\"Enter the user name: \")\n",
    "        askpassword=input(\"Enter the password: \")\n",
    "        if (askuser == username) or (askpassword == password):\n",
    " \n",
    "            raise ValueError('empty string')\n",
    "            break\n",
    "    except:\n",
    "        print(\"you typed right\")\n",
    "    \n",
    "    attempt-=1"
   ]
  },
  {
   "cell_type": "code",
   "execution_count": 1,
   "metadata": {},
   "outputs": [],
   "source": [
    "import sqlite3 \n",
    "  \n",
    "# connecting to the database  \n",
    "connection = sqlite3.connect(\"myTable.db\") \n",
    "  \n",
    "# cursor  \n",
    "crsr = connection.cursor() \n",
    "  \n",
    "# SQL command to create a table in the database \n",
    "sql_command = \"\"\"CREATE TABLE emp (  \n",
    "staff_number INTEGER PRIMARY KEY,  \n",
    "fname VARCHAR(20),  \n",
    "lname VARCHAR(30),  \n",
    "gender CHAR(1),  \n",
    "joining DATE);\"\"\"\n",
    "  \n",
    "# execute the statement \n",
    "crsr.execute(sql_command) \n",
    "  \n",
    "# SQL command to insert the data in the table \n",
    "sql_command = \"\"\"INSERT INTO emp VALUES (23, \"Rishabh\", \"Bansal\", \"M\", \"2014-03-28\");\"\"\"\n",
    "crsr.execute(sql_command) \n",
    "  \n",
    "# another SQL command to insert the data in the table \n",
    "sql_command = \"\"\"INSERT INTO emp VALUES (1, \"Bill\", \"Gates\", \"M\", \"1980-10-28\");\"\"\"\n",
    "crsr.execute(sql_command) \n",
    "  \n",
    "# To save the changes in the files. Never skip this.  \n",
    "# If we skip this, nothing will be saved in the database. \n",
    "connection.commit() \n",
    "  \n",
    "# close the connection \n",
    "connection.close() "
   ]
  },
  {
   "cell_type": "code",
   "execution_count": 4,
   "metadata": {},
   "outputs": [
    {
     "ename": "SyntaxError",
     "evalue": "invalid syntax (<ipython-input-4-08253ad06a18>, line 21)",
     "output_type": "error",
     "traceback": [
      "\u001b[1;36m  File \u001b[1;32m\"<ipython-input-4-08253ad06a18>\"\u001b[1;36m, line \u001b[1;32m21\u001b[0m\n\u001b[1;33m    else userName != user and password != pas: # The userName and password is NOT equal to 'elmo' and 'blue', the user cannot enter FaceSnap\u001b[0m\n\u001b[1;37m                ^\u001b[0m\n\u001b[1;31mSyntaxError\u001b[0m\u001b[1;31m:\u001b[0m invalid syntax\n"
     ]
    }
   ],
   "source": [
    "userName = input(\"Hello! Welcome to FaceSnap! \\n\\nUsername: \") #Ask's the User for Username input\n",
    "password = input(\"Password: \") # Ask's the user for their password\n",
    "\n",
    "user='vedula'\n",
    "pas='123'\n",
    "count = 0 \n",
    "\n",
    "\n",
    "while userName == user and password == pas:\n",
    "    try:\n",
    "        if count == 3: # Counter, to make sure the user only gets a limited number (3)of attempts\n",
    "            print(\"\\nThree Username and Password Attempts used. Goodbye\") # Lets the user know they have reached their limit\n",
    "            break # Leave the Loop and the whole program\n",
    "\n",
    "\n",
    "        elif userName == user and password == pas: # The userName and password is equal to 'elmo' and 'blue', which is correct, they can enter FaceSnap!\n",
    "            print(\"Welcome! \") # Welcomes the User, the username and password is correct\n",
    "            break # Leave the loop and the whole program as the username and passowrd is correct\n",
    "\n",
    "\n",
    "        else userName != user and password != pas: # The userName and password is NOT equal to 'elmo' and 'blue', the user cannot enter FaceSnap\n",
    "            print(\"Your Username and Password is wrong!\") # Lets the user know that the Username and password entered is wrong.\n",
    "            userName = input(\"\\n\\nUsername: \") # Requests the user to have another attempt at entering their correct username\n",
    "            password = input(\"Password: \") # Requests the user to have another attempt at entering their correct password\n",
    "            count += 1 # Increments the count by 1\n",
    "            continue \n",
    "    except:\n",
    "        print(\"over\")"
   ]
  },
  {
   "cell_type": "code",
   "execution_count": null,
   "metadata": {},
   "outputs": [],
   "source": []
  }
 ],
 "metadata": {
  "kernelspec": {
   "display_name": "Python 3",
   "language": "python",
   "name": "python3"
  },
  "language_info": {
   "codemirror_mode": {
    "name": "ipython",
    "version": 3
   },
   "file_extension": ".py",
   "mimetype": "text/x-python",
   "name": "python",
   "nbconvert_exporter": "python",
   "pygments_lexer": "ipython3",
   "version": "3.7.3"
  }
 },
 "nbformat": 4,
 "nbformat_minor": 2
}
